{
  "nbformat": 4,
  "nbformat_minor": 0,
  "metadata": {
    "colab": {
      "provenance": [],
      "authorship_tag": "ABX9TyM0dReVdlB2omLj+y1Hz1uf",
      "include_colab_link": true
    },
    "kernelspec": {
      "name": "python3",
      "display_name": "Python 3"
    },
    "language_info": {
      "name": "python"
    }
  },
  "cells": [
    {
      "cell_type": "markdown",
      "metadata": {
        "id": "view-in-github",
        "colab_type": "text"
      },
      "source": [
        "<a href=\"https://colab.research.google.com/github/Tarunnakka30/Basic-Algorithm-Scripting/blob/main/Basic_Algorithm_Scripting.ipynb\" target=\"_parent\"><img src=\"https://colab.research.google.com/assets/colab-badge.svg\" alt=\"Open In Colab\"/></a>"
      ]
    },
    {
      "cell_type": "markdown",
      "source": [
        "# Convert Celsius to Fahrenheit\n",
        "The formula to convert from Celsius to Fahrenheit is the temperature in Celsius times 9/5, plus 32."
      ],
      "metadata": {
        "id": "xYLHPuvJRMZ_"
      }
    },
    {
      "cell_type": "code",
      "execution_count": null,
      "metadata": {
        "id": "LNqSu5GGQitL"
      },
      "outputs": [],
      "source": [
        "function convertCtoF(celsius) {\n",
        "  let fahrenheit;\n",
        "  return fahrenheit;\n",
        "}\n",
        "\n",
        "console.log(convertCtoF(30));"
      ]
    },
    {
      "cell_type": "markdown",
      "source": [
        "You are given a variable celsius representing a temperature in Celsius. Use the variable fahrenheit already defined and assign it the Fahrenheit temperature equivalent to the given Celsius temperature. Use the formula mentioned above to help convert the Celsius temperature to Fahrenheit."
      ],
      "metadata": {
        "id": "Yl9sgkpGRUux"
      }
    },
    {
      "cell_type": "code",
      "source": [
        "function convertCtoF(celsius) {\n",
        "  let fahrenheit = celsius*(9/5)+32;\n",
        "  return fahrenheit;\n",
        "}\n",
        "\n",
        "console.log(convertCtoF(30));\n",
        "\n",
        "// 86"
      ],
      "metadata": {
        "id": "YXaGZcRvRVcU"
      },
      "execution_count": null,
      "outputs": []
    },
    {
      "cell_type": "markdown",
      "source": [
        "# Reverse a String\n",
        "Reverse the provided string and return the reversed string.\n",
        "\n",
        "For example, \"hello\" should become \"olleh\"."
      ],
      "metadata": {
        "id": "3v7V4ecBS19i"
      }
    },
    {
      "cell_type": "code",
      "source": [
        "function reverseString(str) {\n",
        "  let splitString = str.split(\"\");\n",
        "  let reverseStr = splitString.reverse();\n",
        "  let result = reverseStr.join(\"\")\n",
        "  return result;\n",
        "}\n",
        "\n",
        "console.log(reverseString(\"hello\"));\n",
        "\n",
        "// olleh"
      ],
      "metadata": {
        "id": "C-uOxAxaS6Td"
      },
      "execution_count": null,
      "outputs": []
    },
    {
      "cell_type": "markdown",
      "source": [
        "*   The split() method splits a String object into an array of string by separating the string into sub strings.\n",
        "\n",
        "*   The reverse() method reverses an array in place. The first array element becomes the last and the last becomes the first.\n",
        "\n",
        "* The join() method joins all elements of an array into a string.\n",
        "\n",
        "\n",
        "\n",
        "\n"
      ],
      "metadata": {
        "id": "859JlD5qTKi6"
      }
    },
    {
      "cell_type": "markdown",
      "source": [
        "# Factorialize a Number\n",
        "Return the factorial of the provided integer.\n",
        "\n",
        "If the integer is represented with the letter n, a factorial is the product of all positive integers less than or equal to n.\n",
        "\n",
        "Factorials are often represented with the shorthand notation n!\n",
        "\n",
        "For example: 5! = 1 * 2 * 3 * 4 * 5 = 120\n",
        "\n",
        "Only integers greater than or equal to zero will be supplied to the function."
      ],
      "metadata": {
        "id": "eEIcdHLuUNJn"
      }
    },
    {
      "cell_type": "code",
      "source": [
        "function factorialize(num) {\n",
        "  if(num == 0){\n",
        "    return 1;\n",
        "  }\n",
        "  return (num*factorialize(num-1));\n",
        "}\n",
        "\n",
        "console.log(factorialize(5));\n",
        "\n",
        "// 120"
      ],
      "metadata": {
        "id": "cW-ZmzgqUO8r"
      },
      "execution_count": null,
      "outputs": []
    },
    {
      "cell_type": "markdown",
      "source": [
        "# Find the Longest Word in a String\n",
        "Return the length of the longest word in the provided sentence.\n",
        "\n",
        "Your response should be a number."
      ],
      "metadata": {
        "id": "r7yZXTYiWKzF"
      }
    },
    {
      "cell_type": "code",
      "source": [
        "function findLongestWordLength(str) {\n",
        "  let stringSplit = str.split(' ');\n",
        "  let longestWord = 0;\n",
        "  for(let i=0; i<stringSplit.length; i++){\n",
        "    if(stringSplit[i].length>longestWord){\n",
        "      longestWord = stringSplit[i].length;\n",
        "    }\n",
        "  }\n",
        "  return longestWord;\n",
        "}\n",
        "\n",
        "console.log(findLongestWordLength(\"The quick brown fox jumped over the lazy dog\"));\n",
        "\n",
        "// 6"
      ],
      "metadata": {
        "id": "iQQ0f2xpWM9W"
      },
      "execution_count": null,
      "outputs": []
    },
    {
      "cell_type": "markdown",
      "source": [
        "# Return Largest Numbers in Arrays\n",
        "Return an array consisting of the largest number from each provided sub-array. For simplicity, the provided array will contain exactly 4 sub-arrays.\n",
        "\n",
        "Remember, you can iterate through an array with a simple for loop, and access each member with array syntax arr[i]."
      ],
      "metadata": {
        "id": "kdnRJWZ7ZAc_"
      }
    },
    {
      "cell_type": "code",
      "source": [
        "function largestOfFour(arr){\n",
        "  let result=[];\n",
        "    for (let i = 0; i < arr.length; i++) {\n",
        "    let maxNumber = Math.max(...arr[i]);\n",
        "    result.push(maxNumber);\n",
        "  }\n",
        "  return result;\n",
        "}\n",
        "\n",
        "console.log(largestOfFour([[4, 5, 1, 3], [13, 27, 18, 26], [32, 35, 37, 39], [1000, 1001, 857, 1]]));\n",
        "\n",
        "// [ 5, 27, 39, 1001 ]"
      ],
      "metadata": {
        "id": "5qBi5TtMZC8A"
      },
      "execution_count": null,
      "outputs": []
    },
    {
      "cell_type": "code",
      "source": [
        "// Solution 2\n",
        "function largestOfFour(arr) {\n",
        "  let largestNumber = [0,0,0,0];\n",
        "  for(let arrayIndex=0; arrayIndex<arr.length; arrayIndex++){\n",
        "    for(let subArray=0; subArray<arr.length; subArray++){\n",
        "      if(arr[arrayIndex][subArray]>largestNumber[arrayIndex]){\n",
        "        largestNumber[arrayIndex] = arr[arrayIndex][subArray];\n",
        "      }\n",
        "    }\n",
        "  }\n",
        "  return largestNumber;\n",
        "}\n",
        "\n",
        "console.log(largestOfFour([[4, 5, 1, 3], [13, 27, 18, 26], [32, 35, 37, 39], [1000, 1001, 857, 1]]));\n",
        "\n",
        "//\n",
        "4567891011121314123\n",
        "}\n",
        "\n",
        "console.log(largestOfFour([[4, 5, 1, 3], [13, 27, 18, 26], [32, 35, 37, 39], [1000, 1001, 857, 1]]));\n",
        "\n",
        "[ 5, 27, 39, 1001 ]"
      ],
      "metadata": {
        "id": "UkiAW-x4ZPod"
      },
      "execution_count": null,
      "outputs": []
    },
    {
      "cell_type": "markdown",
      "source": [
        "# Confirm the Ending\n",
        "Check if a string (first argument, str) ends with the given target string (second argument, target).\n",
        "\n",
        "This challenge can be solved with the .endsWith() method, which was introduced in ES2015. But for the purpose of this challenge, we would like you to use one of the JavaScript substring methods instead."
      ],
      "metadata": {
        "id": "buUrhATfbUIl"
      }
    },
    {
      "cell_type": "code",
      "source": [
        "function confirmEnding(str, target) {\n",
        "  let lastLetter = str.substring(str.length - target.length);\n",
        "  return lastLetter == target;\n",
        "}\n",
        "\n",
        "console.log(confirmEnding(\"Congratulation\", \"on\"));\n",
        "// true\n",
        "\n",
        "console.log(confirmEnding(\"Connor\", \"n\"));\n",
        "// false"
      ],
      "metadata": {
        "id": "6lHfWp8HbXx-"
      },
      "execution_count": null,
      "outputs": []
    },
    {
      "cell_type": "markdown",
      "source": [
        "# Repeat a String Repeat a String\n",
        "Repeat a given string str (first argument) for num times (second argument). Return an empty string if num is not a positive number. For the purpose of this challenge, do not use the built-in .repeat() method."
      ],
      "metadata": {
        "id": "e7pBa9hzdLoa"
      }
    },
    {
      "cell_type": "code",
      "source": [
        "function repeatStringNumTimes(str, num) {\n",
        "  if(num<=0){\n",
        "    return '';\n",
        "  }\n",
        "  let repeatedString = ' ';\n",
        "    for (let i = 0; i < num; i++) {\n",
        "    repeatedString += str;\n",
        "    }\n",
        "\n",
        "  return repeatedString;\n",
        "}\n",
        "\n",
        "console.log(repeatStringNumTimes(\"abc\", 3));\n",
        "\n",
        "//  abcabcabc"
      ],
      "metadata": {
        "id": "5UG0EZNidOX2"
      },
      "execution_count": null,
      "outputs": []
    },
    {
      "cell_type": "code",
      "source": [
        "// Solution 2\n",
        "function repeatStringNumTimes(str, num) {\n",
        "  let accumulatedStr = \"\";\n",
        "\n",
        "  for (let i = 0; i < num; i++) {\n",
        "    accumulatedStr += str;\n",
        "  }\n",
        "\n",
        "  return accumulatedStr;\n",
        "}\n",
        "\n",
        "console.log(repeatStringNumTimes(\"*\", 3));\n",
        "\n",
        "// ***"
      ],
      "metadata": {
        "id": "z513g4nOeATx"
      },
      "execution_count": null,
      "outputs": []
    },
    {
      "cell_type": "markdown",
      "source": [
        "# Truncate a String\n",
        "Truncate a string (first argument) if it is longer than the given maximum string length (second argument). Return the truncated string with a ... ending."
      ],
      "metadata": {
        "id": "ISYshqDcfFXO"
      }
    },
    {
      "cell_type": "code",
      "source": [
        "function truncateString(str, num) {\n",
        "  if(str.length > num){\n",
        "    return str.slice(0,num)+\"...\";\n",
        "  }\n",
        "  return str;\n",
        "}\n",
        "\n",
        "console.log(truncateString(\"A-tisket a-tasket A green and yellow basket\", 8));\n",
        "\n",
        "// A-tisket..."
      ],
      "metadata": {
        "id": "rrUu_K_7fHo1"
      },
      "execution_count": null,
      "outputs": []
    },
    {
      "cell_type": "markdown",
      "source": [
        "# Finders Keepers\n",
        "Create a function that looks through an array arr and returns the first element in it that passes a 'truth test'. This means that given an element x, the 'truth test' is passed if func(x) is true. If no element passes the test, return undefined.\n",
        "\n"
      ],
      "metadata": {
        "id": "GMsytg0ogtzh"
      }
    },
    {
      "cell_type": "code",
      "source": [
        "function findElement(arr, func) {\n",
        "  let num = 0;\n",
        "  for(let i=0; i<arr.length; i++){\n",
        "    num = arr[i];\n",
        "    if(func(num)){\n",
        "      return num;\n",
        "    }\n",
        "  }\n",
        "  return undefined;\n",
        "}\n",
        "\n",
        "console.log(findElement([1, 2, 3, 4], num => num % 2 === 0));\n",
        "// 2\n",
        "\n",
        "console.log(findElement([1, 3, 5, 8, 9, 10], function(num) { return num % 2 === 0; }));\n",
        "// 8"
      ],
      "metadata": {
        "id": "C200ll-Vgyfu"
      },
      "execution_count": null,
      "outputs": []
    },
    {
      "cell_type": "code",
      "source": [
        "// Solution 2\n",
        "\n",
        "function findElement(arr, func) {\n",
        "  return arr.find(func);\n",
        "}\n",
        "\n",
        "console.log(findElement([1, 3, 5, 8, 9, 10], function(num) { return num % 2 === 0; }));\n",
        "\n",
        "// 8"
      ],
      "metadata": {
        "id": "h4Fs1ZI8hH93"
      },
      "execution_count": null,
      "outputs": []
    },
    {
      "cell_type": "markdown",
      "source": [
        "# Boo who\n",
        "Check if a value is classified as a boolean primitive. Return true or false.\n",
        "\n",
        "Boolean primitives are true and false."
      ],
      "metadata": {
        "id": "cFst3TI4iDFT"
      }
    },
    {
      "cell_type": "code",
      "source": [
        "function booWho(bool) {\n",
        "  return typeof bool == \"boolean\";\n",
        "}\n",
        "\n",
        "console.log(booWho(null));\n",
        "// false\n",
        "\n",
        "console.log(booWho(true));\n",
        "// true"
      ],
      "metadata": {
        "id": "OFllxo9siE-G"
      },
      "execution_count": null,
      "outputs": []
    },
    {
      "cell_type": "markdown",
      "source": [
        "# Title Case a Sentence\n",
        "Return the provided string with the first letter of each word capitalized. Make sure the rest of the word is in lower case.\n",
        "\n",
        "For the purpose of this exercise, you should also capitalize connecting words like the and of."
      ],
      "metadata": {
        "id": "j6ogyMvc9Dve"
      }
    },
    {
      "cell_type": "code",
      "source": [
        "function titleCase(str) {\n",
        "  let words = str.split(' ');\n",
        "  let updatedWords = [];\n",
        "  for(let string in words){\n",
        "    updatedWords[string] = words[string][0].toUpperCase() + words[string].slice(1).toLowerCase();\n",
        "  }\n",
        "  return updatedWords.join(' ');\n",
        "}\n",
        "\n",
        "console.log(titleCase(\"I'm a little tea pot\"));\n",
        "\n",
        "// I'm A Little Tea Pot"
      ],
      "metadata": {
        "id": "XWff-RXZ_lTC"
      },
      "execution_count": null,
      "outputs": []
    },
    {
      "cell_type": "markdown",
      "source": [
        "# Slice and Splice\n",
        "You are given two arrays and an index.\n",
        "\n",
        "Copy each element of the first array into the second array, in order.\n",
        "\n",
        "Begin inserting elements at index n of the second array.\n",
        "\n",
        "Return the resulting array. The input arrays should remain the same after the function runs."
      ],
      "metadata": {
        "id": "2f740UQhB0LL"
      }
    },
    {
      "cell_type": "code",
      "source": [
        "function frankenSplice(arr1, arr2, n) {\n",
        "  let arr2Copy = arr2.slice();\n",
        "  arr2Copy.splice(n,0,...arr1);\n",
        "  return arr2Copy;\n",
        "}\n",
        "\n",
        "console.log(frankenSplice([1, 2, 3], [4, 5, 6], 1));\n",
        "\n",
        "// [ 4, 1, 2, 3, 5, 6 ]"
      ],
      "metadata": {
        "id": "Lt9sKwi5B3R5"
      },
      "execution_count": null,
      "outputs": []
    },
    {
      "cell_type": "markdown",
      "source": [
        "# Falsy Bouncer\n",
        "Remove all falsy values from an array. Return a new array; do not mutate the original array.\n",
        "\n",
        "Falsy values in JavaScript are false, null, 0, \"\", undefined, and NaN.\n",
        "\n",
        "Hint: Try converting each value to a Boolean."
      ],
      "metadata": {
        "id": "MRk3s5eVDQbB"
      }
    },
    {
      "cell_type": "code",
      "source": [
        "function bouncer(arr) {\n",
        "\n",
        "  return arr.filter(Boolean);\n",
        "\n",
        "}\n",
        "\n",
        "console.log(bouncer([7, \"ate\", \"\", false, 9]));\n",
        "\n",
        "// [ 7, 'ate', 9 ]"
      ],
      "metadata": {
        "id": "N4lUWcFXDRnh"
      },
      "execution_count": null,
      "outputs": []
    },
    {
      "cell_type": "code",
      "source": [
        "// Solution 2\n",
        "function bouncer(arr) {\n",
        "  let newArray=[];\n",
        "  for(let i=0; i<arr.length; i++){\n",
        "    if(arr[i]){\n",
        "      newArray.push(arr[i]);\n",
        "    }\n",
        "  }\n",
        "\n",
        "  return newArray;\n",
        "}\n",
        "\n",
        "console.log(bouncer([7, \"ate\", \"\", false, 9]));\n",
        "\n",
        "// [ 7, 'ate', 9 ]"
      ],
      "metadata": {
        "id": "pU2X6ZPxDZa0"
      },
      "execution_count": null,
      "outputs": []
    },
    {
      "cell_type": "markdown",
      "source": [
        "# Where do I Belong\n",
        "Return the lowest index at which a value (second argument) should be inserted into an array (first argument) once it has been sorted. The returned value should be a number.\n",
        "\n",
        "For example, getIndexToIns([1,2,3,4], 1.5) should return 1 because it is greater than 1 (index 0), but less than 2 (index 1).\n",
        "\n",
        "Likewise, getIndexToIns([20,3,5], 19) should return 2 because once the array has been sorted it will look like [3,5,20] and 19 is less than 20 (index 2) and greater than 5 (index 1)."
      ],
      "metadata": {
        "id": "Rp8A-4ZCcMFc"
      }
    },
    {
      "cell_type": "code",
      "source": [
        "function getIndexToIns(arr, num) {\n",
        "  arr.sort((a, b) => a - b);\n",
        "  let index = 0;\n",
        "  while (index < arr.length && arr[index] < num) {\n",
        "    index++;\n",
        "  }\n",
        "\n",
        "  return index;\n",
        "}\n",
        "\n",
        "\n",
        "console.log(getIndexToIns([40, 60], 50));"
      ],
      "metadata": {
        "id": "UMZJ1ZqQcNde"
      },
      "execution_count": null,
      "outputs": []
    },
    {
      "cell_type": "code",
      "source": [
        "// Solution 2\n",
        "function getIndexToIns(arr, num) {\n",
        "  arr.sort((a, b) => a - b);\n",
        "\n",
        "  for (let i = 0; i < arr.length; i++) {\n",
        "    if (arr[i] >= num) return i;\n",
        "  }\n",
        "\n",
        "  return arr.length;\n",
        "}"
      ],
      "metadata": {
        "id": "Zvwj7sbQcQgp"
      },
      "execution_count": null,
      "outputs": []
    },
    {
      "cell_type": "markdown",
      "source": [
        "# Mutations\n",
        "Return true if the string in the first element of the array contains all of the letters of the string in the second element of the array.\n",
        "\n",
        "For example, [\"hello\", \"Hello\"], should return true because all of the letters in the second string are present in the first, ignoring case.\n",
        "\n",
        "The arguments [\"hello\", \"hey\"] should return false because the string hello does not contain a y.\n",
        "\n",
        "Lastly, [\"Alien\", \"line\"], should return true because all of the letters in line are present in Alien."
      ],
      "metadata": {
        "id": "b5gRuj9XerqC"
      }
    },
    {
      "cell_type": "code",
      "source": [
        "function mutation(arr) {\n",
        "  const test = arr[1].toLowerCase();\n",
        "  const target = arr[0].toLowerCase();\n",
        "  for (let i = 0; i < test.length; i++) {\n",
        "    if (target.indexOf(test[i]) < 0) return false;\n",
        "  }\n",
        "  return true;\n",
        "}\n",
        "\n",
        "console.log(mutation([\"hello\", \"hey\"]));\n",
        "\n",
        "// false"
      ],
      "metadata": {
        "id": "Xf2K8awHethx"
      },
      "execution_count": null,
      "outputs": []
    },
    {
      "cell_type": "code",
      "source": [
        "// Solution 2\n",
        "function mutation(arr) {\n",
        "  let str1 = arr[0].toLowerCase();\n",
        "  let str2 = arr[1].toLowerCase();\n",
        "\n",
        "  for (let i = 0; i < str2.length; i++) {\n",
        "    if (str1.indexOf(str2[i]) === -1) {\n",
        "      return false;\n",
        "    }\n",
        "  }\n",
        "  return true;\n",
        "}\n",
        "\n",
        "console.log(mutation([\"hello\", \"Hello\"]));\n",
        "\n",
        "// true"
      ],
      "metadata": {
        "id": "MDhHdlFcfTQ7"
      },
      "execution_count": null,
      "outputs": []
    },
    {
      "cell_type": "markdown",
      "source": [
        "# Chunky Monkey\n",
        "Write a function that splits an array (first argument) into groups the length of size (second argument) and returns them as a two-dimensional array."
      ],
      "metadata": {
        "id": "rX0YepSkgixi"
      }
    },
    {
      "cell_type": "code",
      "source": [
        "function chunkArrayInGroups(arr, size) {\n",
        "  const newArr = [];\n",
        "  for(let i=0; i < arr.length; i+=size){\n",
        "     newArr.push(arr.slice(i, i + size));\n",
        "  }\n",
        "  return newArr;\n",
        "}\n",
        "\n",
        "console.log(chunkArrayInGroups([\"a\", \"b\", \"c\", \"d\"], 2));\n",
        "\n",
        "// [ [ 'a', 'b' ], [ 'c', 'd' ] ]"
      ],
      "metadata": {
        "id": "i8_WavRvgkIZ"
      },
      "execution_count": null,
      "outputs": []
    }
  ]
}